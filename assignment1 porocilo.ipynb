{
 "cells": [
  {
   "cell_type": "markdown",
   "metadata": {},
   "source": [
    "# Introduction"
   ]
  },
  {
   "cell_type": "markdown",
   "metadata": {
    "tags": []
   },
   "source": [
    "This is a report by Vita Naglič and Arjan Skok on the first assignment in the Intelligent Systems course. The goal of the assignment is to utilize a genetic algorithm to create expressions, that would best fit the given input-out pairs.\n",
    "The assignment is done in python using the pygad package. "
   ]
  },
  {
   "cell_type": "markdown",
   "metadata": {},
   "source": [
    "# The setup:"
   ]
  },
  {
   "cell_type": "markdown",
   "metadata": {},
   "source": [
    "First we have to ensure, that we are able to create valid trees. We can do that in 2 different ways:\n",
    "- either using an already existing equation, which we transform into a prefix mode, using the 'infix_to_prefix()' function and then transforming it into a tree, using the 'buildTree()' function:"
   ]
  },
  {
   "cell_type": "code",
   "execution_count": null,
   "metadata": {},
   "outputs": [],
   "source": [
    "class Node:\n",
    "    def __init__(self, value):\n",
    "        self.value = value\n",
    "        self.left = None\n",
    "        self.right = None\n",
    "\n",
    "def buildTree(expression):\n",
    "    if len(expression) > 0:  # Check if there are elements in the list\n",
    "        root = Node(expression[0])\n",
    "        expression.pop(0)\n",
    "        if is_float(root.value) or root.value.lstrip('-+').isalpha():\n",
    "            return root\n",
    "\n",
    "        root.left = buildTree(expression)\n",
    "        root.right = buildTree(expression)\n",
    "    else:\n",
    "        root = None\n",
    "        \n",
    "    return(root)"
   ]
  },
  {
   "cell_type": "markdown",
   "metadata": {},
   "source": [
    "- or generating a random valid tree, using the 'generateTree()' function (simmilar to treeBuild, the difference being that we generate a random expression in each node instead of reading it from the equation)\n",
    "\n",
    "A valid tree is  one that has the operands at its leaves and operators in central nodes.\n",
    "Afterwards we need to read our input and desired output data, also known as X and Y. The dataset.csv contains 98 such pairs, and one already known equation that connects each pair. We will use this equation for validating our functions.\n",
    "We pick one of the pairs for our algorithm run.\n",
    "\n",
    "With that done, we need to generate our initial population of a determined number of trees. Because pygad can't take tree structures as initial population, we change the trees into a list of pairs [type, value], where type=0 means the value is a number, type=1 operator and type=2 a variable X.\n",
    "\n",
    "With that done, we can focus on the genetic algorithm itself."
   ]
  },
  {
   "cell_type": "markdown",
   "metadata": {},
   "source": [
    "# Fitness function\n",
    "\n",
    "The fitness function that we use is: "
   ]
  },
  {
   "cell_type": "code",
   "execution_count": null,
   "metadata": {},
   "outputs": [],
   "source": [
    "def fitness_func(ga_instance, solution, solution_idx):\n",
    "    # Convert the solution array into an expression tree\n",
    "    solution_tree = arrayToTree(solution)\n",
    "    # Evaluate the tree with the input data\n",
    "    predicted_output = [evaluateTree(solution_tree, x) for x in xs]\n",
    "\n",
    "    # Calculate the mean squared error\n",
    "    mse = np.mean((np.array(predicted_output) - np.array(desired_output))**2)\n",
    "\n",
    "    # Return the fitness value (the reciprocal of the error)\n",
    "    try:\n",
    "        fitness = 1.0 / (1 + mse)\n",
    "    except:\n",
    "        fitnes = 0.000000001\n",
    "\n",
    "    # If the fitness value is complex, return its real part\n",
    "    if isinstance(fitness, complex) and fitness < 0.1:\n",
    "        return 0.000000001\n",
    "    # Otherwise, return the fitness value as is\n",
    "    else:\n",
    "        return fitness"
   ]
  },
  {
   "cell_type": "markdown",
   "metadata": {},
   "source": [
    "The fitness function works as such:\n",
    "- We transform the solution treeArray into a tree\n",
    "- We calculate the predicted output of the solution tree for each X in the input data for this case\n",
    "- We calculate the mean square difference between the predicted and the optimal output of the equation\n",
    "- We punish the equations that are longer than the given equation from the dataset\n",
    "- Fitness is calculated as 1 / (1 + mean squared error + penalty factor)"
   ]
  },
  {
   "cell_type": "markdown",
   "metadata": {},
   "source": [
    "# Crossover and mutation\n",
    "\n",
    "Next we define our custom crossover and mutation function.\n",
    "\n",
    "### Mutation\n",
    "\n",
    "This is the mutation function:"
   ]
  },
  {
   "cell_type": "code",
   "execution_count": null,
   "metadata": {},
   "outputs": [],
   "source": [
    "def mutation(offspring, instance):\n",
    "    for idx, arr in enumerate(offspring):\n",
    "        tree = arrayToTree(arr)\n",
    "        tree_count = countTree(tree)\n",
    "        if tree_count > 1:\n",
    "            mutation_point = random.randint(1, tree_count)\n",
    "        else:\n",
    "            mutation_point = 1  # or some other default value\n",
    "            \n",
    "        operators = ['+', '-', '*', '/', '^']\n",
    "        subtree = poddrevo_gen(tree, mutation_point)\n",
    "        if subtree is not None:\n",
    "            if subtree.value in operators:\n",
    "                subtree.value = operators[random.randint(0, len(operators) - 1)]\n",
    "            else:\n",
    "                operands = list(range(-10,10))\n",
    "                operands.extend(['x', '-x'])\n",
    "                subtree.value = str(operands[random.randint(0, len(operands) - 1)])\n",
    "            offspring[idx] = treeToArray(tree, 300)\n",
    "    return offspring"
   ]
  },
  {
   "cell_type": "markdown",
   "metadata": {},
   "source": [
    "In a tree we select a random node in the tree, using the poddrevo_gen() function. After that we change the value of this node accordingly (operator into operator, operand into operand), so the mutation doesn't yield nonvalid expressions."
   ]
  },
  {
   "cell_type": "markdown",
   "metadata": {},
   "source": [
    "### Crossover\n",
    "\n",
    "This is the crossover function:"
   ]
  },
  {
   "cell_type": "code",
   "execution_count": null,
   "metadata": {},
   "outputs": [],
   "source": [
    "def crossover(parents, offspring_size, instance):\n",
    "    offspring = []\n",
    "    num_parents = len(parents)\n",
    "    while len(offspring) < offspring_size[0]:\n",
    "        # Select two parents\n",
    "        arr1 = parents[random.randint(0, num_parents-1)]\n",
    "        arr2 = parents[random.randint(0, num_parents-1)]\n",
    "        arc1 = arr1.copy()\n",
    "        arc2 = arr2.copy()\n",
    "        tree1 = arrayToTree(arc1)\n",
    "        tree2 = arrayToTree(arc2)\n",
    "        tree_count = min(countTree(tree1), countTree(tree2))\n",
    "        if tree_count > 1:\n",
    "            crossover_point = random.randint(1, tree_count)\n",
    "        else:\n",
    "            crossover_point = 1  # or some other default value\n",
    "        poddrevo1 = poddrevo_gen(tree1, crossover_point)\n",
    "        poddrevo2 = poddrevo_gen(tree2, crossover_point)\n",
    "\n",
    "        if poddrevo1 is not None and poddrevo2 is not None:\n",
    "            poddrevo1.left, poddrevo2.left = poddrevo2.left, poddrevo1.left\n",
    "            poddrevo1.right, poddrevo2.right = poddrevo2.right, poddrevo1.right\n",
    "            poddrevo1.value, poddrevo2.value = poddrevo2.value, poddrevo1.value\n",
    "\n",
    "        # Add the offspring to the list\n",
    "        offspring.append(treeToArray(tree1, 300))\n",
    "        # If there is room for another offspring, add it\n",
    "        if len(offspring) < offspring_size[0]:\n",
    "            offspring.append(treeToArray(tree2, 300))\n",
    "\n",
    "    return np.array(offspring) "
   ]
  },
  {
   "cell_type": "markdown",
   "metadata": {},
   "source": [
    "We select 2 parents and a node in each tree. Using the poddrevo_gen() function, we find this node. Afterwards we swap the 2 subtrees (we swap their children and the value of the selected node)."
   ]
  },
  {
   "cell_type": "markdown",
   "metadata": {},
   "source": [
    "# Onto the genetic algorithm\n",
    "\n",
    "After all this work is done, we can finally set up the algorithm. We set up the pygad.GA instance:"
   ]
  },
  {
   "cell_type": "code",
   "execution_count": null,
   "metadata": {},
   "outputs": [],
   "source": [
    "ga_instance = pygad.GA(num_generations=800,\n",
    "                        num_parents_mating=50,\n",
    "                        fitness_func=fitness_func,\n",
    "                        initial_population=population,\n",
    "                        parent_selection_type=\"tournament\",\n",
    "                        gene_type=np.float64,\n",
    "                        mutation_type=mutation,\n",
    "                        crossover_type=crossover, \n",
    "                        mutation_probability=0.08)\n",
    "                    \n",
    "\n",
    "ga_instance.run()"
   ]
  },
  {
   "cell_type": "markdown",
   "metadata": {},
   "source": [
    "We extract the best solution (the one with the highest fitness) and display the graphs and print the result."
   ]
  },
  {
   "cell_type": "code",
   "execution_count": null,
   "metadata": {},
   "outputs": [],
   "source": [
    "solution_array, solution_fitness, solution_idx = ga_instance.best_solution()\n",
    "\n",
    "print(\"\\nsolution: \", solution_array)\n",
    "    solution_tree = arrayToTree(solution_array)\n",
    "    \n",
    "    plot(fun_optimal_tree, solution_tree, xs)\n",
    "    ga_instance.plot_fitness()\n",
    "    print(\"solution fitness: \", solution_fitness)\n",
    "    print(\"\\nsolution: \")\n",
    "    printTree(solution_tree)\n",
    "    print(\"\\noptimal: \")\n",
    "    printTree(fun_optimal_tree)\n",
    "    print(\"\\n\")"
   ]
  },
  {
   "cell_type": "markdown",
   "metadata": {},
   "source": [
    "# Results and analysis\n",
    "\n",
    "We tested the algorithm on 3 datasets with different complexity and an intial population of 100 equations . We will perform the test on each 2 times, first with 100 generations and then with 600\n",
    "\n",
    "We can see that the results are correct, or at least close for the lower complexity equations, but with bigger one there are more problems and lower accuracy results.\n",
    "\n"
   ]
  },
  {
   "cell_type": "markdown",
   "metadata": {},
   "source": [
    "\n",
    "| Run | Equation 1 | Equation 2 | Equation 3 |\n",
    "| --- | --- | --- | --- |\n",
    "| Pre-given equation | (x * 5) | ((x * 5) - 4) / 6 | -4 * x ** 5 + 1 * x ** 3 + -2 * x ** 2 + -1 * x + -1 |\n",
    "| 100 generations | -5.0 * -x | (-x / 6) - (-x) | x * (9 * -x - (-x - x) * x) |\n",
    "| Fitness 100 gen | 1 | 0.6923 | 3.8272e-13 |\n",
    "| 600 generations | x * 5 | x + (x / -6) | (x + x) * x * x |\n",
    "| Fitness 600 gen | 1 | 0.6923 | 3.8238e-13 |\n"
   ]
  },
  {
   "cell_type": "markdown",
   "metadata": {},
   "source": [
    "### Equation 1 (100):\n",
    "\n",
    "<div>\n",
    "<img src=\"./slike/primer1..png\" width=\"600\" />\n",
    "<img src=\"./slike/primer1 diff.png\" width=\"1000\" />\n",
    "\n",
    "### Equation 1 (600):\n",
    "<img src=\"./slike/primer2.png\" width=\"600\" /> \n",
    "<img src=\"./slike/primer 2 diff.png\" width=\"1000\" /> \n",
    "\n",
    "### Equation 2 (100):\n",
    "<img src=\"./slike/Figure_1.png\" width=\"600\" /> \n",
    "<img src=\"./slike/ffff.png\" width=\"1000\" /> \n",
    "\n",
    "### Equation 2 (600):\n",
    "<img src=\"./slike/f2.png\" width=\"600\" /> \n",
    "<img src=\"./slike/f222.png\" width=\"1000\" /> \n",
    "\n",
    "### Equation 3 (100):\n",
    "<img src=\"./slike/f3.png\" width=\"600\" /> \n",
    "<img src=\"./slike/ff3.png\" width=\"1000\" /> \n",
    "\n",
    "### Equation 3 (600):\n",
    "<img src=\"./slike/f4.png\" width=\"600\" /> \n",
    "<img src=\"./slike/ff4.png\" width=\"1000\" /> \n",
    "\n",
    "</div>\n"
   ]
  }
 ],
 "metadata": {
  "kernelspec": {
   "display_name": "Python 3",
   "language": "python",
   "name": "python3"
  },
  "language_info": {
   "codemirror_mode": {
    "name": "ipython",
    "version": 3
   },
   "file_extension": ".py",
   "mimetype": "text/x-python",
   "name": "python",
   "nbconvert_exporter": "python",
   "pygments_lexer": "ipython3",
   "version": "3.10.2"
  }
 },
 "nbformat": 4,
 "nbformat_minor": 2
}
